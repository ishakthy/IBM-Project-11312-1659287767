{
 "cells": [
  {
   "cell_type": "code",
   "execution_count": 1,
   "id": "5c72a6a1",
   "metadata": {},
   "outputs": [],
   "source": [
    "import requests\n",
    "from tensorflow.keras.preprocessing import image\n",
    "from tensorflow.keras.models import load_model\n",
    "import numpy as np\n",
    "import pandas as pd\n",
    "import tensorflow as tf\n",
    "import os\n",
    "from werkzeug.utils import secure_filename\n",
    "from tensorflow.python.keras.backend import set_session\n",
    "from flask import Flask, render_template, redirect, url_for, request"
   ]
  },
  {
   "cell_type": "code",
   "execution_count": 2,
   "id": "96fe1246",
   "metadata": {},
   "outputs": [],
   "source": [
    "app = Flask(__name__)\n",
    "model=load_model('ECG.h5')"
   ]
  },
  {
   "cell_type": "code",
   "execution_count": 3,
   "id": "62f51e6d",
   "metadata": {},
   "outputs": [],
   "source": [
    "@app.route('/')\n",
    "def about():\n",
    "    return render_template('about.html')"
   ]
  },
  {
   "cell_type": "code",
   "execution_count": 4,
   "id": "13b25c23",
   "metadata": {},
   "outputs": [],
   "source": [
    "@app.route('/about')\n",
    "def home():\n",
    "    return render_template('about.html')"
   ]
  },
  {
   "cell_type": "code",
   "execution_count": 5,
   "id": "1bed0aa6",
   "metadata": {},
   "outputs": [],
   "source": [
    "@app.route('/info')\n",
    "def information():\n",
    "    return render_template('info.html')"
   ]
  },
  {
   "cell_type": "code",
   "execution_count": 6,
   "id": "abc8e6c7",
   "metadata": {},
   "outputs": [],
   "source": [
    "@app.route('/index')\n",
    "def test():\n",
    "    return render_template('index.html')"
   ]
  },
  {
   "cell_type": "code",
   "execution_count": 7,
   "id": "c8f4c990",
   "metadata": {},
   "outputs": [],
   "source": [
    "@app.route(\"/predict\", methods=[\"GET\", \"POST\"]) #route for our prediction \n",
    "def upload():\n",
    "    if request.method== 'POST':\n",
    "        f=request.files['image'] #requesting the file \n",
    "        basepath=os.path.dirname(__file__)#storing the file directory\n",
    "        filepath=os.path.join(basepath, 'uploads',f.filename) #storing the file in uploads folder\n",
    "        f.save(filepath) #saving the file\n",
    "\n",
    "        img=image.load_img(filepath, target_size=(64,64)) #load and reshaping the image \n",
    "        x=image.img_to_array(img)#converting image to array \n",
    "        x=np.expand_dims(x, axis=0) #changing the dimensions of the image\n",
    "        pred=model.predict_classes(x) #predicting classes \n",
    "        print(\"prediction\", pred) #printing the prediction\n",
    "        index=['Left Bundle Branch Block', 'Normal', 'Premature Atrial Contraction', 'Premature Ventricular Contractions', 'Right Bundle Branch Block', 'Ventricular Fibrillation'] \n",
    "        result=str(index[pred[0]])\n",
    "        return result"
   ]
  },
  {
   "cell_type": "code",
   "execution_count": null,
   "id": "917ef0ba",
   "metadata": {},
   "outputs": [
    {
     "name": "stdout",
     "output_type": "stream",
     "text": [
      " * Serving Flask app \"__main__\" (lazy loading)\n",
      " * Environment: production\n",
      "\u001b[31m   WARNING: This is a development server. Do not use it in a production deployment.\u001b[0m\n",
      "\u001b[2m   Use a production WSGI server instead.\u001b[0m\n",
      " * Debug mode: off\n"
     ]
    },
    {
     "name": "stderr",
     "output_type": "stream",
     "text": [
      " * Running on http://127.0.0.1:5000/ (Press CTRL+C to quit)\n",
      "[2022-11-19 22:53:16,059] ERROR in app: Exception on / [GET]\n",
      "Traceback (most recent call last):\n",
      "  File \"C:\\Users\\Chelsia stella\\anaconda3\\lib\\site-packages\\flask\\app.py\", line 2447, in wsgi_app\n",
      "    response = self.full_dispatch_request()\n",
      "  File \"C:\\Users\\Chelsia stella\\anaconda3\\lib\\site-packages\\flask\\app.py\", line 1952, in full_dispatch_request\n",
      "    rv = self.handle_user_exception(e)\n",
      "  File \"C:\\Users\\Chelsia stella\\anaconda3\\lib\\site-packages\\flask\\app.py\", line 1821, in handle_user_exception\n",
      "    reraise(exc_type, exc_value, tb)\n",
      "  File \"C:\\Users\\Chelsia stella\\anaconda3\\lib\\site-packages\\flask\\_compat.py\", line 39, in reraise\n",
      "    raise value\n",
      "  File \"C:\\Users\\Chelsia stella\\anaconda3\\lib\\site-packages\\flask\\app.py\", line 1950, in full_dispatch_request\n",
      "    rv = self.dispatch_request()\n",
      "  File \"C:\\Users\\Chelsia stella\\anaconda3\\lib\\site-packages\\flask\\app.py\", line 1936, in dispatch_request\n",
      "    return self.view_functions[rule.endpoint](**req.view_args)\n",
      "  File \"C:\\Users\\Chelsia stella\\AppData\\Local\\Temp\\ipykernel_28548\\1588831018.py\", line 3, in about\n",
      "    return render_template('about.html')\n",
      "  File \"C:\\Users\\Chelsia stella\\anaconda3\\lib\\site-packages\\flask\\templating.py\", line 138, in render_template\n",
      "    ctx.app.jinja_env.get_or_select_template(template_name_or_list),\n",
      "  File \"C:\\Users\\Chelsia stella\\anaconda3\\lib\\site-packages\\jinja2\\environment.py\", line 930, in get_or_select_template\n",
      "    return self.get_template(template_name_or_list, parent, globals)\n",
      "  File \"C:\\Users\\Chelsia stella\\anaconda3\\lib\\site-packages\\jinja2\\environment.py\", line 883, in get_template\n",
      "    return self._load_template(name, self.make_globals(globals))\n",
      "  File \"C:\\Users\\Chelsia stella\\anaconda3\\lib\\site-packages\\jinja2\\environment.py\", line 857, in _load_template\n",
      "    template = self.loader.load(self, name, globals)\n",
      "  File \"C:\\Users\\Chelsia stella\\anaconda3\\lib\\site-packages\\jinja2\\loaders.py\", line 115, in load\n",
      "    source, filename, uptodate = self.get_source(environment, name)\n",
      "  File \"C:\\Users\\Chelsia stella\\anaconda3\\lib\\site-packages\\flask\\templating.py\", line 60, in get_source\n",
      "    return self._get_source_fast(environment, template)\n",
      "  File \"C:\\Users\\Chelsia stella\\anaconda3\\lib\\site-packages\\flask\\templating.py\", line 89, in _get_source_fast\n",
      "    raise TemplateNotFound(template)\n",
      "jinja2.exceptions.TemplateNotFound: about.html\n",
      "127.0.0.1 - - [19/Nov/2022 22:53:16] \"GET / HTTP/1.1\" 500 -\n",
      "127.0.0.1 - - [19/Nov/2022 22:53:16] \"GET /favicon.ico HTTP/1.1\" 404 -\n"
     ]
    }
   ],
   "source": [
    "if __name__==\"__main__\":\n",
    "    app.run(debug=False)"
   ]
  },
  {
   "cell_type": "code",
   "execution_count": null,
   "id": "370597c2",
   "metadata": {},
   "outputs": [],
   "source": [
    "pred"
   ]
  },
  {
   "cell_type": "code",
   "execution_count": null,
   "id": "82a9d917",
   "metadata": {},
   "outputs": [],
   "source": []
  }
 ],
 "metadata": {
  "kernelspec": {
   "display_name": "Python 3 (ipykernel)",
   "language": "python",
   "name": "python3"
  },
  "language_info": {
   "codemirror_mode": {
    "name": "ipython",
    "version": 3
   },
   "file_extension": ".py",
   "mimetype": "text/x-python",
   "name": "python",
   "nbconvert_exporter": "python",
   "pygments_lexer": "ipython3",
   "version": "3.9.12"
  }
 },
 "nbformat": 4,
 "nbformat_minor": 5
}
